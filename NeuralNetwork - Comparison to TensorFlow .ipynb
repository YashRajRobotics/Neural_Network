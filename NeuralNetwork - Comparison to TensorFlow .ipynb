{
  "nbformat": 4,
  "nbformat_minor": 0,
  "metadata": {
    "colab": {
      "name": "Neural Network - Comparison to TensorFlow  .ipynb",
      "provenance": [],
      "collapsed_sections": []
    },
    "kernelspec": {
      "name": "python3",
      "display_name": "Python 3"
    },
    "widgets": {
      "application/vnd.jupyter.widget-state+json": {
        "2e74c831e6b745bc8c38cd8116f5cdaf": {
          "model_module": "@jupyter-widgets/controls",
          "model_name": "HBoxModel",
          "state": {
            "_view_name": "HBoxView",
            "_dom_classes": [],
            "_model_name": "HBoxModel",
            "_view_module": "@jupyter-widgets/controls",
            "_model_module_version": "1.5.0",
            "_view_count": null,
            "_view_module_version": "1.5.0",
            "box_style": "",
            "layout": "IPY_MODEL_cc82acff33cd44eb82f2d69694f78f27",
            "_model_module": "@jupyter-widgets/controls",
            "children": [
              "IPY_MODEL_3b46e917596d49bd8b837a7f688b11b4",
              "IPY_MODEL_0782c41570ba42d090424012adb99854"
            ]
          }
        },
        "cc82acff33cd44eb82f2d69694f78f27": {
          "model_module": "@jupyter-widgets/base",
          "model_name": "LayoutModel",
          "state": {
            "_view_name": "LayoutView",
            "grid_template_rows": null,
            "right": null,
            "justify_content": null,
            "_view_module": "@jupyter-widgets/base",
            "overflow": null,
            "_model_module_version": "1.2.0",
            "_view_count": null,
            "flex_flow": null,
            "width": null,
            "min_width": null,
            "border": null,
            "align_items": null,
            "bottom": null,
            "_model_module": "@jupyter-widgets/base",
            "top": null,
            "grid_column": null,
            "overflow_y": null,
            "overflow_x": null,
            "grid_auto_flow": null,
            "grid_area": null,
            "grid_template_columns": null,
            "flex": null,
            "_model_name": "LayoutModel",
            "justify_items": null,
            "grid_row": null,
            "max_height": null,
            "align_content": null,
            "visibility": null,
            "align_self": null,
            "height": null,
            "min_height": null,
            "padding": null,
            "grid_auto_rows": null,
            "grid_gap": null,
            "max_width": null,
            "order": null,
            "_view_module_version": "1.2.0",
            "grid_template_areas": null,
            "object_position": null,
            "object_fit": null,
            "grid_auto_columns": null,
            "margin": null,
            "display": null,
            "left": null
          }
        },
        "3b46e917596d49bd8b837a7f688b11b4": {
          "model_module": "@jupyter-widgets/controls",
          "model_name": "FloatProgressModel",
          "state": {
            "_view_name": "ProgressView",
            "style": "IPY_MODEL_7e03d52ada854c4ea44c15521b7aacd8",
            "_dom_classes": [],
            "description": "100%",
            "_model_name": "FloatProgressModel",
            "bar_style": "success",
            "max": 2000,
            "_view_module": "@jupyter-widgets/controls",
            "_model_module_version": "1.5.0",
            "value": 2000,
            "_view_count": null,
            "_view_module_version": "1.5.0",
            "orientation": "horizontal",
            "min": 0,
            "description_tooltip": null,
            "_model_module": "@jupyter-widgets/controls",
            "layout": "IPY_MODEL_7ea876b4f8de4eeeb07bf73c7ce42113"
          }
        },
        "0782c41570ba42d090424012adb99854": {
          "model_module": "@jupyter-widgets/controls",
          "model_name": "HTMLModel",
          "state": {
            "_view_name": "HTMLView",
            "style": "IPY_MODEL_01d09966f3f34c3cb0ca4946d0f278af",
            "_dom_classes": [],
            "description": "",
            "_model_name": "HTMLModel",
            "placeholder": "​",
            "_view_module": "@jupyter-widgets/controls",
            "_model_module_version": "1.5.0",
            "value": " 2000/2000 [00:02&lt;00:00, 883.24epoch/s]",
            "_view_count": null,
            "_view_module_version": "1.5.0",
            "description_tooltip": null,
            "_model_module": "@jupyter-widgets/controls",
            "layout": "IPY_MODEL_7b8f836fc83b4bb089321d9f7b256f35"
          }
        },
        "7e03d52ada854c4ea44c15521b7aacd8": {
          "model_module": "@jupyter-widgets/controls",
          "model_name": "ProgressStyleModel",
          "state": {
            "_view_name": "StyleView",
            "_model_name": "ProgressStyleModel",
            "description_width": "initial",
            "_view_module": "@jupyter-widgets/base",
            "_model_module_version": "1.5.0",
            "_view_count": null,
            "_view_module_version": "1.2.0",
            "bar_color": null,
            "_model_module": "@jupyter-widgets/controls"
          }
        },
        "7ea876b4f8de4eeeb07bf73c7ce42113": {
          "model_module": "@jupyter-widgets/base",
          "model_name": "LayoutModel",
          "state": {
            "_view_name": "LayoutView",
            "grid_template_rows": null,
            "right": null,
            "justify_content": null,
            "_view_module": "@jupyter-widgets/base",
            "overflow": null,
            "_model_module_version": "1.2.0",
            "_view_count": null,
            "flex_flow": null,
            "width": null,
            "min_width": null,
            "border": null,
            "align_items": null,
            "bottom": null,
            "_model_module": "@jupyter-widgets/base",
            "top": null,
            "grid_column": null,
            "overflow_y": null,
            "overflow_x": null,
            "grid_auto_flow": null,
            "grid_area": null,
            "grid_template_columns": null,
            "flex": null,
            "_model_name": "LayoutModel",
            "justify_items": null,
            "grid_row": null,
            "max_height": null,
            "align_content": null,
            "visibility": null,
            "align_self": null,
            "height": null,
            "min_height": null,
            "padding": null,
            "grid_auto_rows": null,
            "grid_gap": null,
            "max_width": null,
            "order": null,
            "_view_module_version": "1.2.0",
            "grid_template_areas": null,
            "object_position": null,
            "object_fit": null,
            "grid_auto_columns": null,
            "margin": null,
            "display": null,
            "left": null
          }
        },
        "01d09966f3f34c3cb0ca4946d0f278af": {
          "model_module": "@jupyter-widgets/controls",
          "model_name": "DescriptionStyleModel",
          "state": {
            "_view_name": "StyleView",
            "_model_name": "DescriptionStyleModel",
            "description_width": "",
            "_view_module": "@jupyter-widgets/base",
            "_model_module_version": "1.5.0",
            "_view_count": null,
            "_view_module_version": "1.2.0",
            "_model_module": "@jupyter-widgets/controls"
          }
        },
        "7b8f836fc83b4bb089321d9f7b256f35": {
          "model_module": "@jupyter-widgets/base",
          "model_name": "LayoutModel",
          "state": {
            "_view_name": "LayoutView",
            "grid_template_rows": null,
            "right": null,
            "justify_content": null,
            "_view_module": "@jupyter-widgets/base",
            "overflow": null,
            "_model_module_version": "1.2.0",
            "_view_count": null,
            "flex_flow": null,
            "width": null,
            "min_width": null,
            "border": null,
            "align_items": null,
            "bottom": null,
            "_model_module": "@jupyter-widgets/base",
            "top": null,
            "grid_column": null,
            "overflow_y": null,
            "overflow_x": null,
            "grid_auto_flow": null,
            "grid_area": null,
            "grid_template_columns": null,
            "flex": null,
            "_model_name": "LayoutModel",
            "justify_items": null,
            "grid_row": null,
            "max_height": null,
            "align_content": null,
            "visibility": null,
            "align_self": null,
            "height": null,
            "min_height": null,
            "padding": null,
            "grid_auto_rows": null,
            "grid_gap": null,
            "max_width": null,
            "order": null,
            "_view_module_version": "1.2.0",
            "grid_template_areas": null,
            "object_position": null,
            "object_fit": null,
            "grid_auto_columns": null,
            "margin": null,
            "display": null,
            "left": null
          }
        }
      }
    },
    "accelerator": "GPU"
  },
  "cells": [
    {
      "cell_type": "code",
      "metadata": {
        "id": "hKwD93U29Xou",
        "colab_type": "code",
        "colab": {}
      },
      "source": [
        "'''\n",
        "This is a small neural network coded from scratch. It is then compared to a neural network from TensorFlow\n",
        "\n",
        "It does 4-class-clasification \n",
        "\n",
        "It contains just 1 hidden layer with 2 neurons - loss function in this layer is sigmoid loss function\n",
        "\n",
        "The output layer contains 4 neurons that are used to clasify into 4 classes - uses softmax to clasify\n",
        "'''"
      ],
      "execution_count": 0,
      "outputs": []
    },
    {
      "cell_type": "markdown",
      "metadata": {
        "id": "mqAs7PY-c72J",
        "colab_type": "text"
      },
      "source": [
        "# Import Packages & SetUp"
      ]
    },
    {
      "cell_type": "code",
      "metadata": {
        "id": "EWnDGOq9XQLK",
        "colab_type": "code",
        "colab": {}
      },
      "source": [
        "import numpy as np\n",
        "import matplotlib.pyplot as plt\n",
        "import matplotlib.colors\n",
        "import pandas as pd\n",
        "from sklearn.model_selection import train_test_split\n",
        "from sklearn.metrics import accuracy_score, mean_squared_error\n",
        "from tqdm import tqdm_notebook \n",
        "import warnings \n",
        "warnings.filterwarnings(\"ignore\")\n",
        "\n",
        "from sklearn.preprocessing import OneHotEncoder\n",
        "from sklearn.datasets import make_blobs"
      ],
      "execution_count": 0,
      "outputs": []
    },
    {
      "cell_type": "code",
      "metadata": {
        "id": "brbC8H5I2vh_",
        "colab_type": "code",
        "colab": {}
      },
      "source": [
        "my_cmap = matplotlib.colors.LinearSegmentedColormap.from_list(\"\", [\"red\",\"yellow\",\"green\"])\n",
        "randomState = 0\n",
        "np.random.seed(0)"
      ],
      "execution_count": 0,
      "outputs": []
    },
    {
      "cell_type": "markdown",
      "metadata": {
        "id": "8ljnZ9_7c_UT",
        "colab_type": "text"
      },
      "source": [
        "# Data Prepration"
      ]
    },
    {
      "cell_type": "code",
      "metadata": {
        "id": "Ing2IytB7ghJ",
        "colab_type": "code",
        "outputId": "3f11034b-f0fe-4595-c2db-0ae8e6dc85af",
        "colab": {
          "base_uri": "https://localhost:8080/",
          "height": 265
        }
      },
      "source": [
        "data1, labels1 = make_blobs(n_samples=1000, centers=4, n_features=2, random_state=randomState)\n",
        "plt.scatter(data1[:,0], data1[:,1], c=labels1, cmap=my_cmap, s=10)\n",
        "plt.show()"
      ],
      "execution_count": 3,
      "outputs": [
        {
          "output_type": "display_data",
          "data": {
            "image/png": "[encoded data removed]",
            "text/plain": [
              "<Figure size 432x288 with 1 Axes>"
            ]
          },
          "metadata": {
            "tags": [],
            "needs_background": "light"
          }
        }
      ]
    },
    {
      "cell_type": "markdown",
      "metadata": {
        "id": "WeK-eZqj-Yz3",
        "colab_type": "text"
      },
      "source": [
        "$\\;\\;\\;\\;\\;\\;\\;\\;\\;\\;\\;\\;\\;\\;\\;\\;\\;\\;\\;\\;$ ☝ $\\;\\;\\;\\;\\;\\;\\;\\;\\;\\;\\;\\;\\;\\;\\;\\;\\;\\;\\;\\;$ ☝ $\\;\\;\\;\\;\\;\\;\\;\\;\\;\\;\\;\\;\\;\\;\\;\\;\\;\\;\\;\\;$ ☝ <br>\n",
        "Data is like this, with each class represented in different colours. There are 2 input parameters"
      ]
    },
    {
      "cell_type": "code",
      "metadata": {
        "id": "6Flya_S-77ef",
        "colab_type": "code",
        "outputId": "85013690-f138-4de0-ec30-ff75b5a04995",
        "colab": {
          "base_uri": "https://localhost:8080/",
          "height": 34
        }
      },
      "source": [
        "X_train, X_validate, Y_train, Y_validate = train_test_split(data1, labels1, stratify=labels1, random_state=randomState)\n",
        "print(Y_train.shape, Y_validate.shape)"
      ],
      "execution_count": 4,
      "outputs": [
        {
          "output_type": "stream",
          "text": [
            "(750,) (250,)\n"
          ],
          "name": "stdout"
        }
      ]
    },
    {
      "cell_type": "code",
      "metadata": {
        "id": "Jhuu5XP6PNMU",
        "colab_type": "code",
        "outputId": "61227e4c-dbf8-4edb-ec97-19d08bfabd87",
        "colab": {
          "base_uri": "https://localhost:8080/",
          "height": 34
        }
      },
      "source": [
        "enc = OneHotEncoder()\n",
        "Y_OH_train = enc.fit_transform(np.expand_dims(Y_train,1)).toarray()\n",
        "Y_OH_validate = enc.fit_transform(np.expand_dims(Y_validate,1)).toarray()\n",
        "print(Y_OH_train.shape, Y_OH_validate.shape)"
      ],
      "execution_count": 5,
      "outputs": [
        {
          "output_type": "stream",
          "text": [
            "(750, 4) (250, 4)\n"
          ],
          "name": "stdout"
        }
      ]
    },
    {
      "cell_type": "markdown",
      "metadata": {
        "id": "71jnzvzngL2E",
        "colab_type": "text"
      },
      "source": [
        "# Neural Network - Compressed Version"
      ]
    },
    {
      "cell_type": "code",
      "metadata": {
        "id": "uxJvVnhu3t9q",
        "colab_type": "code",
        "colab": {}
      },
      "source": [
        "class FeedForwardNeuralNetwork_compressed :\n",
        "    def __init__(self):self.W1,self.W2,self.B1,self.B2=np.random.randn(2,2),np.random.randn(2,4),np.zeros((1,2)),np.zeros((1,4))\n",
        "    def sigmoid(self,X):return(1.0)/(1.0+np.exp(-X))\n",
        "    def softmax(self,X):return(np.exp(X)/np.sum(np.exp(X),axis=1).reshape(-1,1))\n",
        "    def grad_sigmoid(self,X):return(X*(1-X))\n",
        "    def fit(self,X_train,Y_train,epochs=1,learning_rate=1):\n",
        "        for i in tqdm_notebook(range(epochs),total=epochs,unit=\"epoch\"):self.W2,self.W1,self.B2,self.B1=self.W2-learning_rate*np.matmul(self.sigmoid(np.matmul(X_train,self.W1)+self.B1).T,self.softmax(np.matmul(self.sigmoid(np.matmul(X_train,self.W1)+self.B1),self.W2)+self.B2)-Y_train)/X_train.shape[0],self.W1-learning_rate*np.matmul(X_train.T,np.multiply(np.matmul(self.softmax(np.matmul(self.sigmoid(np.matmul(X_train,self.W1)+self.B1),self.W2)+self.B2)-Y_train,self.W2.T),self.grad_sigmoid(self.sigmoid(np.matmul(X_train,self.W1)+self.B1))))/X_train.shape[0],self.B2-learning_rate*np.sum(self.softmax(np.matmul(self.sigmoid(np.matmul(X_train,self.W1)+self.B1),self.W2)+self.B2)-Y_train,axis=0).reshape(1,-1)/X_train.shape[0],self.B1-learning_rate*np.sum(np.multiply(np.matmul(self.softmax(np.matmul(self.sigmoid(np.matmul(X_train,self.W1)+self.B1),self.W2)+self.B2)-Y_train,self.W2.T),self.grad_sigmoid(self.sigmoid(np.matmul(X_train,self.W1)+self.B1))),axis=0).reshape(1,-1)/X_train.shape[0]\n",
        "    def predict(self,X_validate):return(np.array(self.softmax(np.matmul(self.sigmoid(np.matmul(X_validate,self.W1)+self.B1),self.W2)+self.B2)).squeeze())"
      ],
      "execution_count": 0,
      "outputs": []
    },
    {
      "cell_type": "code",
      "metadata": {
        "id": "y3loPRiFdEMH",
        "colab_type": "code",
        "colab": {}
      },
      "source": [
        "ffnn_comp = FeedForwardNeuralNetwork_compressed()"
      ],
      "execution_count": 0,
      "outputs": []
    },
    {
      "cell_type": "markdown",
      "metadata": {
        "id": "AiaN3lsjELy7",
        "colab_type": "text"
      },
      "source": [
        "# Comparison with TensorFlow"
      ]
    },
    {
      "cell_type": "markdown",
      "metadata": {
        "id": "aZJNS-Vf4y0g",
        "colab_type": "text"
      },
      "source": [
        "### Import TensorFlow"
      ]
    },
    {
      "cell_type": "code",
      "metadata": {
        "id": "KO6pNboqq5N4",
        "colab_type": "code",
        "colab": {}
      },
      "source": [
        "import tensorflow as tf\n",
        "from tensorflow import keras"
      ],
      "execution_count": 0,
      "outputs": []
    },
    {
      "cell_type": "markdown",
      "metadata": {
        "id": "MbFU7EJN5_Ek",
        "colab_type": "text"
      },
      "source": [
        "### Defining HyperParameters"
      ]
    },
    {
      "cell_type": "code",
      "metadata": {
        "id": "UbER3zcmFCk2",
        "colab_type": "code",
        "colab": {}
      },
      "source": [
        "#Define hyper parameters\n",
        "Epochs = 2000\n",
        "learningRate = 0.5\n",
        "\n",
        "#No of Nodes in hidden layer(hl)\n",
        "n_nodes_hl1 = 2\n",
        "\n",
        "#No of output classes for classification problems\n",
        "n_classes = 4"
      ],
      "execution_count": 0,
      "outputs": []
    },
    {
      "cell_type": "markdown",
      "metadata": {
        "id": "4XXtFwqq6Gbj",
        "colab_type": "text"
      },
      "source": [
        "### Set the Neural Network Graph"
      ]
    },
    {
      "cell_type": "code",
      "metadata": {
        "id": "cUOd9eNMFls4",
        "colab_type": "code",
        "outputId": "cc0dc873-06c7-4e3d-e34b-9e2d18aafede",
        "colab": {
          "base_uri": "https://localhost:8080/",
          "height": 34
        }
      },
      "source": [
        "tf.compat.v1.reset_default_graph"
      ],
      "execution_count": 10,
      "outputs": [
        {
          "output_type": "execute_result",
          "data": {
            "text/plain": [
              "<function tensorflow.python.framework.ops.reset_default_graph>"
            ]
          },
          "metadata": {
            "tags": []
          },
          "execution_count": 10
        }
      ]
    },
    {
      "cell_type": "code",
      "metadata": {
        "id": "3FNF7uPqF-kF",
        "colab_type": "code",
        "colab": {}
      },
      "source": [
        "model = keras.Sequential()\n",
        "\n",
        "model.add(tf.keras.layers.InputLayer(input_shape = (X_train.shape[1],)))\n",
        "model.add(tf.keras.layers.Flatten())\n",
        "\n",
        "model.add(tf.keras.layers.Dense(n_nodes_hl1, activation='sigmoid'))\n",
        "\n",
        "model.add(tf.keras.layers.Dense(n_classes, activation='softmax'))"
      ],
      "execution_count": 0,
      "outputs": []
    },
    {
      "cell_type": "code",
      "metadata": {
        "id": "M7HxoQjFGYbL",
        "colab_type": "code",
        "colab": {}
      },
      "source": [
        "optimiser = keras.optimizers.Adam(learning_rate=learningRate/X_train.shape[0])\n",
        "    # Here, learning rate is divided by the number of rows as, in the model we have built, it is internaly doing the same\n",
        "    # For TensorFlow we need to manually divide it here \n",
        "    # This is done as the learning for a model with more data points will be higher compared to a model with lesser number of data points. As data is more, the chances of \n",
        "        # learning is higher. So we divide it with the number of rows as each time an epoch runs, the learning will be equal to the learning rate only for any size of data\n",
        "    # For example, a dataset with 1000 data items gets a chance to reduce it's loss 1000 times PER EPOCH, while a dataset with 500 data items gets to reduce it's loss only \n",
        "    # 500 times PER EPOCH. So we need to fix this and dividing it with the number of data points brings them to a constant value of reduction\n",
        "model.compile( optimizer=optimiser, loss='categorical_crossentropy', metrics=['accuracy'])"
      ],
      "execution_count": 0,
      "outputs": []
    },
    {
      "cell_type": "code",
      "metadata": {
        "id": "7rBsq2GprNKK",
        "colab_type": "code",
        "outputId": "dafb27d1-c611-47e4-e11f-8b4ad623a684",
        "colab": {
          "base_uri": "https://localhost:8080/",
          "height": 263
        }
      },
      "source": [
        "model.summary()"
      ],
      "execution_count": 13,
      "outputs": [
        {
          "output_type": "stream",
          "text": [
            "Model: \"sequential\"\n",
            "_________________________________________________________________\n",
            "Layer (type)                 Output Shape              Param #   \n",
            "=================================================================\n",
            "flatten (Flatten)            (None, 2)                 0         \n",
            "_________________________________________________________________\n",
            "dense (Dense)                (None, 2)                 6         \n",
            "_________________________________________________________________\n",
            "dense_1 (Dense)              (None, 4)                 12        \n",
            "=================================================================\n",
            "Total params: 18\n",
            "Trainable params: 18\n",
            "Non-trainable params: 0\n",
            "_________________________________________________________________\n"
          ],
          "name": "stdout"
        }
      ]
    },
    {
      "cell_type": "markdown",
      "metadata": {
        "id": "nqYXtXSd9BBP",
        "colab_type": "text"
      },
      "source": [
        "# Fitting **Same Data** in both Models"
      ]
    },
    {
      "cell_type": "markdown",
      "metadata": {
        "id": "AXdsR9DYHCCg",
        "colab_type": "text"
      },
      "source": [
        "### Neural Network - Self Coded "
      ]
    },
    {
      "cell_type": "code",
      "metadata": {
        "id": "X7OwcjMT4Di0",
        "colab_type": "code",
        "outputId": "96c8349c-07ee-45e1-8173-fa4394909791",
        "colab": {
          "base_uri": "https://localhost:8080/",
          "height": 102,
          "referenced_widgets": [
            "2e74c831e6b745bc8c38cd8116f5cdaf",
            "cc82acff33cd44eb82f2d69694f78f27",
            "3b46e917596d49bd8b837a7f688b11b4",
            "0782c41570ba42d090424012adb99854",
            "7e03d52ada854c4ea44c15521b7aacd8",
            "7ea876b4f8de4eeeb07bf73c7ce42113",
            "01d09966f3f34c3cb0ca4946d0f278af",
            "7b8f836fc83b4bb089321d9f7b256f35"
          ]
        }
      },
      "source": [
        "%%time\n",
        "ffnn_comp.fit(X_train, Y_OH_train, epochs=Epochs, learning_rate=learningRate)"
      ],
      "execution_count": 14,
      "outputs": [
        {
          "output_type": "display_data",
          "data": {
            "application/vnd.jupyter.widget-view+json": {
              "model_id": "2e74c831e6b745bc8c38cd8116f5cdaf",
              "version_minor": 0,
              "version_major": 2
            },
            "text/plain": [
              "HBox(children=(FloatProgress(value=0.0, max=2000.0), HTML(value='')))"
            ]
          },
          "metadata": {
            "tags": []
          }
        },
        {
          "output_type": "stream",
          "text": [
            "\n",
            "CPU times: user 2.25 s, sys: 6.38 ms, total: 2.25 s\n",
            "Wall time: 2.25 s\n"
          ],
          "name": "stdout"
        }
      ]
    },
    {
      "cell_type": "code",
      "metadata": {
        "id": "Hn9IJ1oOmtdy",
        "colab_type": "code",
        "outputId": "04e25cb0-5841-44cc-d163-194b17bad9fb",
        "colab": {
          "base_uri": "https://localhost:8080/",
          "height": 34
        }
      },
      "source": [
        "y_pred = ffnn_comp.predict(X_validate)\n",
        "Y_pred = np.argmax(y_pred,1)\n",
        "print('Accuracy = ', accuracy_score(Y_validate, Y_pred)*100, '%')"
      ],
      "execution_count": 15,
      "outputs": [
        {
          "output_type": "stream",
          "text": [
            "Accuracy =  94.0 %\n"
          ],
          "name": "stdout"
        }
      ]
    },
    {
      "cell_type": "markdown",
      "metadata": {
        "id": "5p0kE0608f5e",
        "colab_type": "text"
      },
      "source": [
        "Accuracy achieved by model = 94.0% <br>\n",
        "Time to execute the model = **2.25 seconds**"
      ]
    },
    {
      "cell_type": "markdown",
      "metadata": {
        "id": "w14LroGTHHda",
        "colab_type": "text"
      },
      "source": [
        "### Neural Network - TensorFlow "
      ]
    },
    {
      "cell_type": "code",
      "metadata": {
        "id": "d3BNuwtvG3iS",
        "colab_type": "code",
        "outputId": "abfc5744-dc0f-457e-924f-f8fc8ea15265",
        "colab": {
          "base_uri": "https://localhost:8080/",
          "height": 52
        }
      },
      "source": [
        "%%time\n",
        "history = model.fit(X_train, Y_OH_train, epochs=Epochs, verbose=0)"
      ],
      "execution_count": 16,
      "outputs": [
        {
          "output_type": "stream",
          "text": [
            "CPU times: user 1min 26s, sys: 15.9 s, total: 1min 42s\n",
            "Wall time: 1min 16s\n"
          ],
          "name": "stdout"
        }
      ]
    },
    {
      "cell_type": "code",
      "metadata": {
        "id": "eXgFmuNN5Eqc",
        "colab_type": "code",
        "outputId": "b929a826-dce3-4ff1-a3fe-351486add343",
        "colab": {
          "base_uri": "https://localhost:8080/",
          "height": 34
        }
      },
      "source": [
        "pred_y = model.predict(X_validate)\n",
        "Y_pred = np.argmax(pred_y,1)\n",
        "print('Accuracy = ', accuracy_score(Y_validate, Y_pred)*100, '%')"
      ],
      "execution_count": 17,
      "outputs": [
        {
          "output_type": "stream",
          "text": [
            "Accuracy =  93.60000000000001 %\n"
          ],
          "name": "stdout"
        }
      ]
    },
    {
      "cell_type": "markdown",
      "metadata": {
        "id": "IZbT6pXi8305",
        "colab_type": "text"
      },
      "source": [
        "Accuracy achieved by model = 93.6% <br>\n",
        "Time to execute the model = 1min 16s = **76 seconds**"
      ]
    },
    {
      "cell_type": "markdown",
      "metadata": {
        "id": "axLdKIMz83xx",
        "colab_type": "text"
      },
      "source": [
        "# Conclusion"
      ]
    },
    {
      "cell_type": "markdown",
      "metadata": {
        "id": "gGjd1VRM63aI",
        "colab_type": "text"
      },
      "source": [
        "As we see, the final accuracy achieved by a Neural Network of TensorFlow is 93.6%"
      ]
    },
    {
      "cell_type": "markdown",
      "metadata": {
        "id": "anS6YW7h63U6",
        "colab_type": "text"
      },
      "source": [
        "The final accuracy achieved by the model coded by us is 94.0% (which is about the same as the TF version)"
      ]
    },
    {
      "cell_type": "markdown",
      "metadata": {
        "id": "Wcq7283i63KG",
        "colab_type": "text"
      },
      "source": [
        "But the main advantage is achieved in the training time, where TF takes about 1min 16seconds, which is equal to **76 seconds**, to train the same data which could be done in **2.52 seconds**. So for any complex model, it is much easier and **faster** to train our model instead"
      ]
    }
  ]
}